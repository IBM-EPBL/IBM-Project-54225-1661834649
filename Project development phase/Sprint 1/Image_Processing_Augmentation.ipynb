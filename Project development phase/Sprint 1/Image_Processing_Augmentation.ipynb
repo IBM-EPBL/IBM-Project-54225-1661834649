{
  "cells": [
    {
      "cell_type": "markdown",
      "metadata": {
        "id": "-OdZb7egVqyF"
      },
      "source": [
        "# Image Processing -  Augmentation Concept\n",
        "\n",
        "Team github ID : IBM-Project-54225-1661834649\n"
      ]
    },
    {
      "cell_type": "markdown",
      "metadata": {
        "id": "00xoawcEU0rp"
      },
      "source": [
        "# **Augmentor:**\n",
        "\n",
        "\n",
        "\n",
        "Augmentor is a Python package designed to aid the augmentation and artificial generation of image data for machine learning tasks. It is primarily a data augmentation tool, but will also incorporate basic image pre-processing functionality."
      ]
    },
    {
      "cell_type": "code",
      "execution_count": null,
      "metadata": {
        "id": "cYLY9OeOUYK9"
      },
      "outputs": [],
      "source": [
        "!pip install Augmentor"
      ]
    },
    {
      "cell_type": "code",
      "execution_count": null,
      "metadata": {
        "id": "k1q_GIynVSaT"
      },
      "outputs": [],
      "source": [
        "import Augmentor\n",
        "\n",
        "path_to_data = \"/home/user/images/dataset1/\"\n",
        "\n",
        "p = Augmentor.Pipeline(path_to_data)\n",
        "\n",
        "p.flip_left_right(probability=0.4)\n",
        "\n",
        "p.flip_top_bottom(probability=0.8)\n",
        "\n",
        "p.rotate90(probability=0.1)\n",
        "\n",
        "p.sample(num_of_samples)"
      ]
    }
  ],
  "metadata": {
    "colab": {
      "collapsed_sections": [],
      "private_outputs": true,
      "provenance": []
    },
    "kernelspec": {
      "display_name": "Python 3",
      "name": "python3"
    },
    "language_info": {
      "name": "python"
    }
  },
  "nbformat": 4,
  "nbformat_minor": 0
}
