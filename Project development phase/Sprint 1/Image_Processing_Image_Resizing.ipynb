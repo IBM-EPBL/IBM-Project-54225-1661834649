{
  "nbformat": 4,
  "nbformat_minor": 0,
  "metadata": {
    "colab": {
      "private_outputs": true,
      "provenance": [],
      "collapsed_sections": []
    },
    "kernelspec": {
      "name": "python3",
      "display_name": "Python 3"
    },
    "language_info": {
      "name": "python"
    }
  },
  "cells": [
    {
      "cell_type": "markdown",
      "source": [
        "# Image Processing -  Image Resizing Concept\n",
        "\n",
        "Team github ID : IBM-Project-54225-1661834649"
      ],
      "metadata": {
        "id": "-OdZb7egVqyF"
      }
    },
    {
      "cell_type": "markdown",
      "source": [
        "# **Image Resizing**\n",
        "\n",
        "Image Resizing is an Important Step to Pre-Processing the Image to Fit into the transfer learning Model.\n",
        "\n",
        "Image Resize play an important role in Hyper-parameter Tuning\n",
        "\n",
        "In concept of transfer Learning Concept it has various transfer Learning Algorithm it has varioues input image resize pipelines."
      ],
      "metadata": {
        "id": "00xoawcEU0rp"
      }
    },
    {
      "cell_type": "code",
      "source": [
        "import PIL\n",
        "import os\n",
        "import os.path\n",
        "from PIL import Image\n",
        "\n",
        "f = r'E:/DATASET/plant-doc/plantdocx-corn/PlantDoc-Dataset/corn/test/Corn Gray leaf spot'\n",
        "for file in os.listdir(f):\n",
        "    f_img = f+\"/\"+file\n",
        "    img = Image.open(f_img)\n",
        "    img = img.resize((224,224))\n",
        "    img.save(f_img)\n",
        "print(\"image are Resized\")"
      ],
      "metadata": {
        "id": "k1q_GIynVSaT"
      },
      "execution_count": null,
      "outputs": []
    }
  ]
}